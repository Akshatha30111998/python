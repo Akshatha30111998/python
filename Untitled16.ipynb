{
  "nbformat": 4,
  "nbformat_minor": 0,
  "metadata": {
    "colab": {
      "provenance": []
    },
    "kernelspec": {
      "name": "python3",
      "display_name": "Python 3"
    },
    "language_info": {
      "name": "python"
    }
  },
  "cells": [
    {
      "cell_type": "code",
      "execution_count": null,
      "metadata": {
        "id": "4dk7l0ucUupl"
      },
      "outputs": [],
      "source": []
    },
    {
      "cell_type": "markdown",
      "source": [
        "#Python Basics\n",
        "\n",
        " 1. What is Python, and why is it popular?\n",
        "  - Python is a popular programming  \n",
        "   language  that is easy to understand and write, making it a popular choice among developers and programmers."
      ],
      "metadata": {
        "id": "u2UGpSzCVY1U"
      }
    },
    {
      "cell_type": "markdown",
      "source": [
        "# New Section"
      ],
      "metadata": {
        "id": "a7Pz4TG6Wg-d"
      }
    }
  ]
}